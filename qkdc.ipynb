{
 "cells": [
  {
   "cell_type": "markdown",
   "metadata": {},
   "source": [
    "<p align='center'><img src=\"img/qash.png\" width=\"250\"></p>"
   ]
  },
  {
   "cell_type": "markdown",
   "metadata": {},
   "source": [
    "# Qash - QKDC (Quantum Key Derivation Circuits)\n",
    "- key derivation using quantum computations"
   ]
  },
  {
   "cell_type": "code",
   "execution_count": 1,
   "metadata": {},
   "outputs": [],
   "source": [
    "import pennylane as qml\n",
    "from jax import jit, random\n",
    "from jax import numpy as jnp\n",
    "import sys\n",
    "import qkdc_helper as helper\n",
    "import qkdc_electron as electron\n",
    "import qkdc_photon as photon \n",
    "from functools import partial"
   ]
  },
  {
   "cell_type": "markdown",
   "metadata": {},
   "source": [
    "### Turn on x64 Float Mode\n",
    "- double precision mode is required when using many of the JAX features, such as JIT"
   ]
  },
  {
   "cell_type": "code",
   "execution_count": 2,
   "metadata": {},
   "outputs": [
    {
     "name": "stdout",
     "output_type": "stream",
     "text": [
      "jax float64 = enabled\n"
     ]
    }
   ],
   "source": [
    "x64_mode = True   # double precision float mode for JAX \n",
    "helper.x64Switch(x64_mode)"
   ]
  },
  {
   "cell_type": "markdown",
   "metadata": {},
   "source": [
    "### Check whether JAX is using CPU or GPU"
   ]
  },
  {
   "cell_type": "code",
   "execution_count": 3,
   "metadata": {},
   "outputs": [
    {
     "name": "stdout",
     "output_type": "stream",
     "text": [
      "platform = gpu\n"
     ]
    }
   ],
   "source": [
    "helper.getBackend()"
   ]
  },
  {
   "cell_type": "markdown",
   "metadata": {},
   "source": [
    "### Process Data \n",
    "- pepper is an optional array of floats that represent a quantum device state, this state is applied in order to make the hash more effective (similar purpose to a salt)\n",
    "- pepper can be applied alongside an optional salt value (salt is applied the same as any othe key derivation program)\n",
    "- if pepper is not set than circuits will handle it accordingly (circuits will still run)"
   ]
  },
  {
   "cell_type": "code",
   "execution_count": 4,
   "metadata": {},
   "outputs": [
    {
     "name": "stdout",
     "output_type": "stream",
     "text": [
      "test data (string): test\n",
      "test data (jax.numpy): [116.         101.         115.         116.         -28.25539552\n",
      "  51.18201262]\n",
      "...\n",
      "test data 2 (string): tess\n",
      "test data 2 (jax.numpy): [116.         101.         115.         115.         -28.25539552\n",
      "  51.18201262]\n",
      "...\n",
      "processed string inputs are different\n"
     ]
    }
   ],
   "source": [
    "pepper = jnp.array([0.0, 0.0, 0.0, 0.0])   # user defined array of floats that help randomize hash\n",
    "\n",
    "text = \"test\"\n",
    "text2 = \"tess\"\n",
    "total_char_len = 6    # total desired char length to base hash on\n",
    "\n",
    "pad_len1 = total_char_len - len(text)   # pad length for 1st string\n",
    "pad_len2 = total_char_len - len(text2)  # pad length for 2nd string\n",
    "\n",
    "text_arr = helper.createAndPad(text, pad_len1)    # create and pad data (1st string/array)\n",
    "text_arr2 = helper.createAndPad(text2, pad_len2)  # create and pad data (2nd string/array)\n",
    "\n",
    "num_wires = len(text_arr)   # calculate number of wires needed for quantum devices\n",
    "\n",
    "print(f\"test data (string): {text}\")\n",
    "print(f\"test data (jax.numpy): {text_arr}\")\n",
    "print(\"...\")\n",
    "print(f\"test data 2 (string): {text2}\")\n",
    "print(f\"test data 2 (jax.numpy): {text_arr2}\")\n",
    "print(\"...\")\n",
    "if text_arr2.all == text_arr.all:\n",
    "    print(\"processed string inputs are equal\")\n",
    "else:\n",
    "    print(\"processed string inputs are different\")"
   ]
  },
  {
   "cell_type": "markdown",
   "metadata": {},
   "source": [
    "### SuperConductor Circuit\n",
    "- this circuit is meant to run on superconducting QPUs \n",
    "    - trapped-ion QPU compatibility is currently in testing\n",
    "- using variance measurement instead of expectation value allows for better compatibility with various devices/simulators\n",
    "    - better compatibility with google/cirq devices"
   ]
  },
  {
   "cell_type": "code",
   "execution_count": 5,
   "metadata": {},
   "outputs": [],
   "source": [
    "@partial(jit, static_argnames=['device'])\n",
    "def qxHashCirq(input, pepper, seed, device):\n",
    "    key = random.PRNGKey(seed)\n",
    "    if device == 'default.qubit.jax':\n",
    "        qdev = qml.device(device, wires=num_wires, prng_key=key)\n",
    "    else:\n",
    "        qdev = qml.device(device, wires=num_wires)\n",
    "\n",
    "    @qml.qnode(qdev, interface=\"jax\")\n",
    "    def cirq(input, pepper, key):\n",
    "        if pepper is not None:\n",
    "            electron.angleEmbed(input,pepper)\n",
    "        else:\n",
    "            electron.superPos(input)\n",
    "        electron.rotLoop(input)\n",
    "        electron.singleX(input)\n",
    "        electron.rotLoop(input)\n",
    "        electron.strongTangle(input, key)\n",
    "        electron.rotLoop(input)\n",
    "        return [qml.var(qml.PauliZ(wires=i)) for i in range(num_wires)]\n",
    "    \n",
    "    return cirq(input, pepper, key)"
   ]
  },
  {
   "cell_type": "markdown",
   "metadata": {},
   "source": [
    "### Photonic Circuit\n",
    "- this circuit is meant to run on photonic QPUs (only compatible with photonic processors)\n",
    "- Note: only works with fock backends, for gaussian implementation see [GausQash](https://github.com/TimeMelt/GausQash)"
   ]
  },
  {
   "cell_type": "code",
   "execution_count": 6,
   "metadata": {},
   "outputs": [],
   "source": [
    "def qxBerryCirq(input, pepper):\n",
    "    berry_device = qml.device('strawberryfields.fock', wires=num_wires, cutoff_dim=2)\n",
    "\n",
    "    @qml.qnode(berry_device, interface=\"jax\")\n",
    "    def cirq(input, pepper):\n",
    "        photon.prepareCohState(input, pepper)\n",
    "        photon.thermalState(input)\n",
    "        photon.photonRotate(input)\n",
    "        photon.displaceStep(input)\n",
    "        photon.beamSplit(input)\n",
    "        photon.crossKerr(input)\n",
    "        photon.cubicPhase(input)\n",
    "        return [qml.expval(qml.NumberOperator(wires=i)) for i in range(num_wires)]\n",
    "\n",
    "    return cirq(input, pepper)"
   ]
  },
  {
   "cell_type": "markdown",
   "metadata": {},
   "source": [
    "### Define Parameters"
   ]
  },
  {
   "cell_type": "code",
   "execution_count": 7,
   "metadata": {},
   "outputs": [],
   "source": [
    "output_mode = 'hex'   # can be 'hex' or 'base64'\n",
    "seed = 10    # seed for strong entanglement interaction (superconductor circuit only)"
   ]
  },
  {
   "cell_type": "markdown",
   "metadata": {},
   "source": [
    "### Execute Photonic Circuit"
   ]
  },
  {
   "cell_type": "code",
   "execution_count": 8,
   "metadata": {},
   "outputs": [
    {
     "name": "stdout",
     "output_type": "stream",
     "text": [
      "stawberry output 1 (length): 6\n",
      "strawberry string 1: 443a8822527d2e8e4c87b9119c812e82a965dfaa0a852e495a2914ba9d742e99f9432cf7bde12e74f5789a58800e\n",
      "...\n",
      "strawaberry output 2 (length): 6\n",
      "strawberry string 2: b439d134ee242e3ecc8807dd0ea02e31c6b42de67ff32e212c743590760c2e4ba5caab0680132e30065eea0eabaf\n",
      "\n",
      "strawberry string values are different\n",
      "...\n",
      "strawberry raw output values are different\n"
     ]
    }
   ],
   "source": [
    "# photonic hash for 1st string \n",
    "output1 = qxBerryCirq(text_arr, pepper)\n",
    "output_string1 = helper.processOutput(output1, output_mode)\n",
    "\n",
    "# photonic hash for 2nd string\n",
    "output2 = qxBerryCirq(text_arr2, pepper)\n",
    "output_string2 = helper.processOutput(output2, output_mode)\n",
    "\n",
    "# output to console\n",
    "print(f\"stawberry output 1 (length): {len(output1)}\")\n",
    "print(f\"strawberry string 1: {output_string1}\")\n",
    "if output_mode == 'hex':\n",
    "    print(\"...\")\n",
    "print(f\"strawaberry output 2 (length): {len(output2)}\")\n",
    "print(f\"strawberry string 2: {output_string2}\")\n",
    "\n",
    "print('')\n",
    "if output_string1 == output_string2:\n",
    "    print(\"strawberry string values are equal\")\n",
    "else:\n",
    "    print(\"strawberry string values are different\")\n",
    "    \n",
    "print(\"...\")\n",
    "\n",
    "if output1 == output2:\n",
    "    print(\"strawberry raw output  values are equal\")\n",
    "else:\n",
    "    print(\"strawberry raw output values are different\")    "
   ]
  },
  {
   "cell_type": "markdown",
   "metadata": {},
   "source": [
    "### Execute SuperConductor Circuit"
   ]
  },
  {
   "cell_type": "code",
   "execution_count": 9,
   "metadata": {},
   "outputs": [
    {
     "name": "stdout",
     "output_type": "stream",
     "text": [
      "pennylane output 3 (length): 6\n",
      "pennylane string 3: 34595c1f17a8404bdc16080ba1044056a7c82cf34f0040235053ec7b813640393f2ee70ef2844055dbbef22bb6ac\n",
      "...\n",
      "pennylane output 4 (length): 6\n",
      "pennylane string 4: 59cfc48b4dfe404f2a8eb323c2f040585ca199a375f04054233d6457a5c04039447e2053a7764055d6d5c928560f\n",
      "\n",
      "pennylane string values are different\n",
      "...\n",
      "pennylane raw output values are different\n"
     ]
    }
   ],
   "source": [
    "simulator = {\n",
    "    \"cirq\": \"cirq.simulator\",\n",
    "    \"jax\": \"default.qubit.jax\",\n",
    "}\n",
    "\n",
    "# superconductor hash for 1st string\n",
    "output3 = qxHashCirq(text_arr, pepper, seed, simulator[\"cirq\"])\n",
    "output_string3 = helper.processOutput(output3, output_mode)\n",
    "\n",
    "# superconductor hash for 2nd string\n",
    "output4 = qxHashCirq(text_arr2, pepper, seed, simulator[\"cirq\"])\n",
    "output_string4 = helper.processOutput(output4, output_mode)\n",
    "\n",
    "# output to console\n",
    "print(f\"pennylane output 3 (length): {len(output3)}\")\n",
    "print(f\"pennylane string 3: {output_string3}\")\n",
    "if output_mode == 'hex':\n",
    "    print(\"...\")\n",
    "print(f\"pennylane output 4 (length): {len(output4)}\")\n",
    "print(f\"pennylane string 4: {output_string4}\")\n",
    "\n",
    "print('')\n",
    "if output_string3 == output_string4:\n",
    "    print(\"pennylane string values are equal\")\n",
    "else:\n",
    "    print(\"pennylane string values are different\")\n",
    "    \n",
    "print(\"...\")\n",
    "\n",
    "if output3 == output4:\n",
    "    print(\"pennylane raw output  values are equal\")\n",
    "else:\n",
    "    print(\"pennylane raw output values are different\") "
   ]
  },
  {
   "cell_type": "markdown",
   "metadata": {},
   "source": [
    "### Display Output Sizes"
   ]
  },
  {
   "cell_type": "code",
   "execution_count": 10,
   "metadata": {},
   "outputs": [
    {
     "name": "stdout",
     "output_type": "stream",
     "text": [
      "string 1 length: 92\n",
      "string 2 length: 92\n",
      "string 3 length: 92\n",
      "string 4 length: 92\n",
      "...\n",
      "string 1 byte size: 141\n",
      "string 2 byte size: 141\n",
      "string 3 byte size: 141\n",
      "string 4 byte size: 141\n",
      "...\n",
      "string 1 bit length: 1128\n",
      "string 2 bit length: 1128\n",
      "string 3 bit length: 1128\n",
      "string 4 bit length: 1128\n"
     ]
    }
   ],
   "source": [
    "# output hash lengths\n",
    "print(f\"string 1 length: {len(output_string1)}\")\n",
    "print(f\"string 2 length: {len(output_string2)}\")\n",
    "print(f\"string 3 length: {len(output_string3)}\")\n",
    "print(f\"string 4 length: {len(output_string4)}\")\n",
    "\n",
    "print(\"...\")\n",
    "\n",
    "# output hash byte sizes\n",
    "print(f\"string 1 byte size: {sys.getsizeof(output_string1)}\")\n",
    "print(f\"string 2 byte size: {sys.getsizeof(output_string2)}\")\n",
    "print(f\"string 3 byte size: {sys.getsizeof(output_string3)}\")\n",
    "print(f\"string 4 byte size: {sys.getsizeof(output_string4)}\")\n",
    "\n",
    "print(\"...\")\n",
    "\n",
    "# output hash bit lengths\n",
    "print(f\"string 1 bit length: {sys.getsizeof(output_string1)*8}\")\n",
    "print(f\"string 2 bit length: {sys.getsizeof(output_string2)*8}\")\n",
    "print(f\"string 3 bit length: {sys.getsizeof(output_string3)*8}\")\n",
    "print(f\"string 4 bit length: {sys.getsizeof(output_string4)*8}\")"
   ]
  }
 ],
 "metadata": {
  "kernelspec": {
   "display_name": "quantum311",
   "language": "python",
   "name": "python3"
  },
  "language_info": {
   "codemirror_mode": {
    "name": "ipython",
    "version": 3
   },
   "file_extension": ".py",
   "mimetype": "text/x-python",
   "name": "python",
   "nbconvert_exporter": "python",
   "pygments_lexer": "ipython3",
   "version": "3.11.7"
  }
 },
 "nbformat": 4,
 "nbformat_minor": 2
}
