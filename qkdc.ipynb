{
 "cells": [
  {
   "cell_type": "markdown",
   "metadata": {},
   "source": [
    "<p align='center'><img src=\"img/qash.png\" width=\"250\"></p>"
   ]
  },
  {
   "cell_type": "markdown",
   "metadata": {},
   "source": [
    "# Qash - QKDC (Quantum Key Derivation Circuits)\n",
    "- key derivation using quantum computations\n",
    "- configurations set using config.toml file"
   ]
  },
  {
   "cell_type": "code",
   "execution_count": 1,
   "metadata": {},
   "outputs": [],
   "source": [
    "import pennylane as qml\n",
    "from jax import jit, random\n",
    "from jax import numpy as jnp\n",
    "import sys\n",
    "import qkdc_helper as helper\n",
    "import qkdc_electron as electron\n",
    "import qkdc_photon as photon \n",
    "from functools import partial\n",
    "from quantuminspire.credentials import enable_account\n",
    "from qiskit_aqt_provider import AQTProvider"
   ]
  },
  {
   "cell_type": "markdown",
   "metadata": {},
   "source": [
    "### Load API Key (Quantum Inspire)\n",
    "- config.toml file is used to configure/store API key"
   ]
  },
  {
   "cell_type": "code",
   "execution_count": 2,
   "metadata": {},
   "outputs": [],
   "source": [
    "try:\n",
    "    qml.default_config.load(\".config/pennylane/config.toml\")\n",
    "    enable_account(qml.default_config['quantuminspire']['global']['api_key'])\n",
    "except Exception as e: \n",
    "    print(e)"
   ]
  },
  {
   "cell_type": "markdown",
   "metadata": {},
   "source": [
    "### Turn on x64 Float Mode\n",
    "- double precision mode is required when using many of the JAX features, such as JIT"
   ]
  },
  {
   "cell_type": "code",
   "execution_count": 3,
   "metadata": {},
   "outputs": [
    {
     "name": "stdout",
     "output_type": "stream",
     "text": [
      "jax float64 = enabled\n"
     ]
    }
   ],
   "source": [
    "x64_mode = True   # double precision float mode for JAX \n",
    "helper.x64Switch(x64_mode)"
   ]
  },
  {
   "cell_type": "markdown",
   "metadata": {},
   "source": [
    "### Check whether JAX is using CPU or GPU"
   ]
  },
  {
   "cell_type": "code",
   "execution_count": 4,
   "metadata": {},
   "outputs": [
    {
     "name": "stdout",
     "output_type": "stream",
     "text": [
      "platform = gpu\n"
     ]
    }
   ],
   "source": [
    "helper.getBackend()"
   ]
  },
  {
   "cell_type": "markdown",
   "metadata": {},
   "source": [
    "### Process Data \n",
    "- pepper is an optional array of floats that represent a quantum device state, this state is applied in order to make the hash more effective (similar purpose to a salt)\n",
    "- pepper can be applied alongside an optional salt value (salt is applied the same as any othe key derivation program)\n",
    "- if pepper is not set than circuits will handle it accordingly (circuits will still run)\n",
    "- use of padding allows for string to be interpreted as longer value\n",
    "    - 6 = 5 + 1 (total length = original string length + padding length)\n",
    "    - hashes vary in size based on string length (use padding to control length of hashes)"
   ]
  },
  {
   "cell_type": "code",
   "execution_count": 5,
   "metadata": {},
   "outputs": [
    {
     "name": "stdout",
     "output_type": "stream",
     "text": [
      "test data (string): test\n",
      "test data (jax.numpy): [116.         101.         115.         116.         -28.25539552]\n",
      "...\n",
      "test data 2 (string): tess\n",
      "test data 2 (jax.numpy): [116.         101.         115.         115.         -28.25539552]\n",
      "...\n",
      "processed string inputs are different\n"
     ]
    }
   ],
   "source": [
    "pepper = jnp.array([0.0, 0.0, 0.0, 0.0])   # user defined array of floats that help randomize hash\n",
    "\n",
    "text = \"test\"\n",
    "text2 = \"tess\"\n",
    "total_char_len = 5    # total desired char length to base hash on\n",
    "\n",
    "pad_len1 = total_char_len - len(text)   # pad length for 1st string\n",
    "pad_len2 = total_char_len - len(text2)  # pad length for 2nd string\n",
    "\n",
    "text_arr = helper.createAndPad(text, pad_len1)    # create and pad data (1st string/array)\n",
    "text_arr2 = helper.createAndPad(text2, pad_len2)  # create and pad data (2nd string/array)\n",
    "\n",
    "num_wires = len(text_arr)   # calculate number of wires needed for quantum devices\n",
    "\n",
    "print(f\"test data (string): {text}\")\n",
    "print(f\"test data (jax.numpy): {text_arr}\")\n",
    "print(\"...\")\n",
    "print(f\"test data 2 (string): {text2}\")\n",
    "print(f\"test data 2 (jax.numpy): {text_arr2}\")\n",
    "print(\"...\")\n",
    "if text_arr2.all == text_arr.all:\n",
    "    print(\"processed string inputs are equal\")\n",
    "else:\n",
    "    print(\"processed string inputs are different\")"
   ]
  },
  {
   "cell_type": "markdown",
   "metadata": {},
   "source": [
    "### SuperConductor Circuit\n",
    "- this circuit is meant to run on superconducting QPUs \n",
    "    - is also compatible with trapped-ion devices (IonQ, AQT)\n",
    "- using variance measurement instead of expectation value allows for better compatibility with various devices/simulators\n",
    "    - better compatibility with various quantum devices"
   ]
  },
  {
   "cell_type": "code",
   "execution_count": 6,
   "metadata": {},
   "outputs": [],
   "source": [
    "@partial(jit, static_argnames=['device'])\n",
    "def qxHashCirq(input, pepper, seed, device):\n",
    "    key = random.PRNGKey(seed)\n",
    "    if device == 'default.qubit.jax':\n",
    "        qdev = qml.device(device, wires=num_wires, prng_key=key)\n",
    "    elif device == 'aqt-local':\n",
    "        aqt_backend = AQTProvider(\"\").get_backend(\"offline_simulator_no_noise\")\n",
    "        qdev = qml.device('qiskit.remote', wires=num_wires, backend=aqt_backend, shots=200)\n",
    "    elif device == 'qiskit.aer' or device == 'ionq.simulator' or device == 'quantuminspire.qi':\n",
    "        qdev = qml.device(device, wires=num_wires, shots=500)\n",
    "    else:\n",
    "        qdev = qml.device(device, wires=num_wires)\n",
    "\n",
    "    @qml.qnode(qdev, interface=\"jax\")\n",
    "    def cirq(input, pepper, key):\n",
    "        if pepper is not None:\n",
    "            electron.angleEmbed(input,pepper)\n",
    "        else:\n",
    "            electron.superPos(input)\n",
    "        electron.rotLoop(input)\n",
    "        electron.singleX(input)\n",
    "        electron.rotLoop(input)\n",
    "        electron.strongTangle(input, key)\n",
    "        electron.rotLoop(input)\n",
    "        return [qml.var(qml.PauliZ(wires=i)) for i in range(num_wires)]\n",
    "    \n",
    "    return cirq(input, pepper, key)"
   ]
  },
  {
   "cell_type": "markdown",
   "metadata": {},
   "source": [
    "### Photonic Circuit\n",
    "- this circuit is meant to run on photonic QPUs (only compatible with photonic processors)\n",
    "- Note: only works with fock backends, for gaussian implementation see [GausQash](https://github.com/TimeMelt/GausQash)"
   ]
  },
  {
   "cell_type": "code",
   "execution_count": 7,
   "metadata": {},
   "outputs": [],
   "source": [
    "def qxBerryCirq(input, pepper):\n",
    "    berry_device = qml.device('strawberryfields.fock', wires=num_wires, cutoff_dim=2)\n",
    "\n",
    "    @qml.qnode(berry_device, interface=\"jax\")\n",
    "    def cirq(input, pepper):\n",
    "        photon.prepareCohState(input, pepper)\n",
    "        photon.thermalState(input)\n",
    "        photon.photonRotate(input)\n",
    "        photon.displaceStep(input)\n",
    "        photon.beamSplit(input)\n",
    "        photon.crossKerr(input)\n",
    "        photon.cubicPhase(input)\n",
    "        return [qml.expval(qml.NumberOperator(wires=i)) for i in range(num_wires)]\n",
    "\n",
    "    return cirq(input, pepper)"
   ]
  },
  {
   "cell_type": "markdown",
   "metadata": {},
   "source": [
    "### Define Parameters\n",
    "- output_mode: whether to output hash in 'hex' or 'base64'\n",
    "- seed: integer for strong entanglement layer (superconductor circuit only)\n",
    "- float_mode: dictionary with values to process circuit output as either single precision or double precision floats"
   ]
  },
  {
   "cell_type": "code",
   "execution_count": 8,
   "metadata": {},
   "outputs": [],
   "source": [
    "output_mode = 'hex'   # can be 'hex' or 'base64'\n",
    "seed = 10    # seed for strong entanglement interaction (superconductor circuit only)\n",
    "float_mode = {\n",
    "    'double': 'double',\n",
    "    'single': 'single',\n",
    "}"
   ]
  },
  {
   "cell_type": "markdown",
   "metadata": {},
   "source": [
    "### Execute Photonic Circuit\n",
    "- output processing only works in double precision mode \n",
    "    - float_mode[\"double\"]"
   ]
  },
  {
   "cell_type": "code",
   "execution_count": 9,
   "metadata": {},
   "outputs": [
    {
     "name": "stdout",
     "output_type": "stream",
     "text": [
      "stawberry output 1 (length): 5\n",
      "strawberry string 1: e4836bacb55436668f58be0edfed3669e9b184c71b3b362d20a807cfc898367008b638ed1120\n",
      "...\n",
      "strawaberry output 2 (length): 5\n",
      "strawberry string 2: 1eeda8be3b9d362385d27c3706f83625c17fa66d269e361e425f085a90eb362bad1ce7cba9df\n",
      "\n",
      "strawberry string values are different\n",
      "...\n",
      "strawberry raw output values are different\n"
     ]
    }
   ],
   "source": [
    "# photonic hash for 1st string \n",
    "output1 = qxBerryCirq(text_arr, pepper)\n",
    "output_string1 = helper.processOutput(output1, output_mode, float_mode['double'])\n",
    "\n",
    "# photonic hash for 2nd string\n",
    "output2 = qxBerryCirq(text_arr2, pepper)\n",
    "output_string2 = helper.processOutput(output2, output_mode, float_mode['double'])\n",
    "\n",
    "# output to console\n",
    "print(f\"stawberry output 1 (length): {len(output1)}\")\n",
    "print(f\"strawberry string 1: {output_string1}\")\n",
    "if output_mode == 'hex':\n",
    "    print(\"...\")\n",
    "print(f\"strawaberry output 2 (length): {len(output2)}\")\n",
    "print(f\"strawberry string 2: {output_string2}\")\n",
    "\n",
    "print('')\n",
    "if output_string1 == output_string2:\n",
    "    print(\"strawberry string values are equal\")\n",
    "else:\n",
    "    print(\"strawberry string values are different\")\n",
    "    \n",
    "print(\"...\")\n",
    "\n",
    "if output1 == output2:\n",
    "    print(\"strawberry raw output  values are equal\")\n",
    "else:\n",
    "    print(\"strawberry raw output values are different\")    "
   ]
  },
  {
   "cell_type": "markdown",
   "metadata": {},
   "source": [
    "### Execute SuperConductor Circuit\n",
    "- output processing has 2 modes\n",
    "    - single precision float \n",
    "        - shorter hashes\n",
    "        - shot number does not matter\n",
    "        - float_mode[\"single\"]\n",
    "    - double precision float\n",
    "        - longer hashes\n",
    "        - some device require multiple shots for proper output\n",
    "        - float_mode[\"double\"]\n",
    "- simulator: dictionary used to determine which quantum device to use"
   ]
  },
  {
   "cell_type": "code",
   "execution_count": 10,
   "metadata": {},
   "outputs": [
    {
     "name": "stdout",
     "output_type": "stream",
     "text": [
      "pennylane output 3 (length): 5\n",
      "pennylane string 3: 59b3d07c84b34050970a3d70a3d74058fd70a3d70a3d40368f5c28f5c2904022bd3c36113405\n",
      "...\n",
      "pennylane output 4 (length): 5\n",
      "pennylane string 4: 1905f453206e404f0c291f7215894058fd8d4f7e645c404432fca3762bae402081d839e5a8bc\n",
      "\n",
      "pennylane string values are different\n",
      "...\n",
      "pennylane raw output values are different\n"
     ]
    }
   ],
   "source": [
    "simulator = {\n",
    "    \"qiskit\": \"qiskit.aer\",\n",
    "    \"cirq\": \"cirq.simulator\",\n",
    "    \"jax\": \"default.qubit.jax\",\n",
    "    \"ionq\": \"ionq.simulator\",\n",
    "    \"qinspire\": \"quantuminspire.qi\",\n",
    "    \"aqt-local\": \"aqt-local\",\n",
    "}\n",
    "\n",
    "# superconductor hash for 1st string\n",
    "output3 = qxHashCirq(text_arr, pepper, seed, simulator[\"qiskit\"])\n",
    "output_string3 = helper.processOutput(output3, output_mode, float_mode['double'])\n",
    "\n",
    "# superconductor hash for 2nd string\n",
    "output4 = qxHashCirq(text_arr2, pepper, seed, simulator[\"cirq\"])\n",
    "output_string4 = helper.processOutput(output4, output_mode, float_mode['double'])\n",
    "\n",
    "# output to console\n",
    "print(f\"pennylane output 3 (length): {len(output3)}\")\n",
    "print(f\"pennylane string 3: {output_string3}\")\n",
    "if output_mode == 'hex':\n",
    "    print(\"...\")\n",
    "print(f\"pennylane output 4 (length): {len(output4)}\")\n",
    "print(f\"pennylane string 4: {output_string4}\")\n",
    "\n",
    "print('')\n",
    "if output_string3 == output_string4:\n",
    "    print(\"pennylane string values are equal\")\n",
    "else:\n",
    "    print(\"pennylane string values are different\")\n",
    "    \n",
    "print(\"...\")\n",
    "\n",
    "if output3 == output4:\n",
    "    print(\"pennylane raw output  values are equal\")\n",
    "else:\n",
    "    print(\"pennylane raw output values are different\") "
   ]
  },
  {
   "cell_type": "markdown",
   "metadata": {},
   "source": [
    "### Display Output Sizes\n",
    "- sizes vary based on data size, use padding option to control hash length"
   ]
  },
  {
   "cell_type": "code",
   "execution_count": 11,
   "metadata": {},
   "outputs": [
    {
     "name": "stdout",
     "output_type": "stream",
     "text": [
      "string 1 length: 76\n",
      "string 2 length: 76\n",
      "string 3 length: 76\n",
      "string 4 length: 76\n",
      "...\n",
      "string 1 byte size: 125\n",
      "string 2 byte size: 125\n",
      "string 3 byte size: 125\n",
      "string 4 byte size: 125\n",
      "...\n",
      "string 1 bit length: 1000\n",
      "string 2 bit length: 1000\n",
      "string 3 bit length: 1000\n",
      "string 4 bit length: 1000\n"
     ]
    }
   ],
   "source": [
    "# output hash lengths\n",
    "print(f\"string 1 length: {len(output_string1)}\")\n",
    "print(f\"string 2 length: {len(output_string2)}\")\n",
    "print(f\"string 3 length: {len(output_string3)}\")\n",
    "print(f\"string 4 length: {len(output_string4)}\")\n",
    "\n",
    "print(\"...\")\n",
    "\n",
    "# output hash byte sizes\n",
    "print(f\"string 1 byte size: {sys.getsizeof(output_string1)}\")\n",
    "print(f\"string 2 byte size: {sys.getsizeof(output_string2)}\")\n",
    "print(f\"string 3 byte size: {sys.getsizeof(output_string3)}\")\n",
    "print(f\"string 4 byte size: {sys.getsizeof(output_string4)}\")\n",
    "\n",
    "print(\"...\")\n",
    "\n",
    "# output hash bit lengths\n",
    "print(f\"string 1 bit length: {sys.getsizeof(output_string1)*8}\")\n",
    "print(f\"string 2 bit length: {sys.getsizeof(output_string2)*8}\")\n",
    "print(f\"string 3 bit length: {sys.getsizeof(output_string3)*8}\")\n",
    "print(f\"string 4 bit length: {sys.getsizeof(output_string4)*8}\")"
   ]
  }
 ],
 "metadata": {
  "kernelspec": {
   "display_name": "Python 3 (ipykernel)",
   "language": "python",
   "name": "python3"
  },
  "language_info": {
   "codemirror_mode": {
    "name": "ipython",
    "version": 3
   },
   "file_extension": ".py",
   "mimetype": "text/x-python",
   "name": "python",
   "nbconvert_exporter": "python",
   "pygments_lexer": "ipython3",
   "version": "3.11.7"
  }
 },
 "nbformat": 4,
 "nbformat_minor": 4
}
